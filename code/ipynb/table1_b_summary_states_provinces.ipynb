{
 "cells": [
  {
   "cell_type": "code",
   "execution_count": 11,
   "id": "5abdad87",
   "metadata": {},
   "outputs": [],
   "source": [
    "import pandas as pd\n",
    "import numpy as np"
   ]
  },
  {
   "cell_type": "code",
   "execution_count": 12,
   "id": "aa86ff8d",
   "metadata": {},
   "outputs": [],
   "source": [
    "landuse_rainfed=np.load('Historical_maize_rainfed_10_1986_2005_landuse_fraction.npy',allow_pickle=True)\n",
    "mask=landuse_rainfed.copy()\n",
    "mask[mask<0.1]=np.nan\n",
    "mask[mask>=0.1]=1.0\n",
    "areainsqmeter=np.load('areainsqmeter_squared_meter_great_lake_region.npy',allow_pickle=True)\n",
    "prod2000_60x60=np.load('prod2000_60x60.npy',allow_pickle=True)\n",
    "prod2005_60x60=np.load('prod2005_60x60.npy',allow_pickle=True)\n",
    "prod2010_60x60=np.load('prod2010_60x60.npy',allow_pickle=True)\n",
    "prod_average=(prod2000_60x60+prod2005_60x60+prod2010_60x60)/3.0\n",
    "production_exposure=prod_average*mask"
   ]
  },
  {
   "cell_type": "code",
   "execution_count": 13,
   "id": "eba39d6a",
   "metadata": {},
   "outputs": [],
   "source": [
    "mean_yields1996to2005=np.load('mean_yields1996to2005.npy')\n",
    "mean_yields2006to2015_rcp26=np.load('mean_yields2006to2015_rcp26.npy')\n",
    "mean_yields2006to2015_rcp60=np.load('mean_yields2006to2015_rcp60.npy')\n",
    "RefYields=mean_yields1996to2005/2+(mean_yields2006to2015_rcp26+mean_yields2006to2015_rcp60)/4"
   ]
  },
  {
   "cell_type": "code",
   "execution_count": 14,
   "id": "78a6d256",
   "metadata": {},
   "outputs": [],
   "source": [
    "yield2050RCP26=np.load('rcp26_2050s_maize_noirr_2040-2069_averaged_yield.npy')\n",
    "yield2080RCP26=np.load('rcp26_2080s_maize_noirr_20_2070-2099_averaged_yield.npy')\n",
    "yield2050RCP60=np.load('rcp60_2050s_maize_noirr_2040-2069_averaged_yield.npy')\n",
    "yield2080RCP60=np.load('rcp60_2080s_maize_noirr_20_2070-2099_averaged_yield.npy')"
   ]
  },
  {
   "cell_type": "code",
   "execution_count": 15,
   "id": "d002041d",
   "metadata": {},
   "outputs": [],
   "source": [
    "X=np.load('rainfed_maize_production_Xgrid.npy')\n",
    "Y=np.load('rainfed_maize_production_Ygrid.npy')"
   ]
  },
  {
   "cell_type": "code",
   "execution_count": 16,
   "id": "471d1d8d",
   "metadata": {},
   "outputs": [],
   "source": [
    "pnt_IA=pd.read_csv('state_province_gridcell_csvfiles\\Gridcell_IA.csv')\n",
    "pnt_MN=pd.read_csv('state_province_gridcell_csvfiles\\Gridcell_MN.csv')\n",
    "pnt_WI=pd.read_csv('state_province_gridcell_csvfiles\\Gridcell_WI.csv')\n",
    "pnt_IL=pd.read_csv('state_province_gridcell_csvfiles\\Gridcell_IL.csv')\n",
    "pnt_MI=pd.read_csv('state_province_gridcell_csvfiles\\Gridcell_MI.csv')\n",
    "pnt_IN=pd.read_csv('state_province_gridcell_csvfiles\\Gridcell_IN.csv')\n",
    "pnt_OH=pd.read_csv('state_province_gridcell_csvfiles\\Gridcell_OH.csv')\n",
    "pnt_NY=pd.read_csv('state_province_gridcell_csvfiles\\Gridcell_NY.csv')\n",
    "pnt_PA=pd.read_csv('state_province_gridcell_csvfiles\\Gridcell_PA.csv')\n",
    "pnt_MD=pd.read_csv('state_province_gridcell_csvfiles\\Gridcell_MD.csv')\n",
    "pnt_ON=pd.read_csv('state_province_gridcell_csvfiles\\Gridcell_ON.csv')\n",
    "pnt_QC=pd.read_csv('state_province_gridcell_csvfiles\\Gridcell_QC.csv')"
   ]
  },
  {
   "cell_type": "code",
   "execution_count": 17,
   "id": "eee466a4",
   "metadata": {},
   "outputs": [
    {
     "data": {
      "text/html": [
       "<div>\n",
       "<style scoped>\n",
       "    .dataframe tbody tr th:only-of-type {\n",
       "        vertical-align: middle;\n",
       "    }\n",
       "\n",
       "    .dataframe tbody tr th {\n",
       "        vertical-align: top;\n",
       "    }\n",
       "\n",
       "    .dataframe thead th {\n",
       "        text-align: right;\n",
       "    }\n",
       "</style>\n",
       "<table border=\"1\" class=\"dataframe\">\n",
       "  <thead>\n",
       "    <tr style=\"text-align: right;\">\n",
       "      <th></th>\n",
       "      <th>Unnamed: 0</th>\n",
       "      <th>lon</th>\n",
       "      <th>lat</th>\n",
       "      <th>coords</th>\n",
       "    </tr>\n",
       "  </thead>\n",
       "  <tbody>\n",
       "    <tr>\n",
       "      <th>0</th>\n",
       "      <td>2587</td>\n",
       "      <td>-96.25</td>\n",
       "      <td>43.25</td>\n",
       "      <td>POINT (-96.25 43.25)</td>\n",
       "    </tr>\n",
       "    <tr>\n",
       "      <th>1</th>\n",
       "      <td>2588</td>\n",
       "      <td>-95.75</td>\n",
       "      <td>43.25</td>\n",
       "      <td>POINT (-95.75 43.25)</td>\n",
       "    </tr>\n",
       "    <tr>\n",
       "      <th>2</th>\n",
       "      <td>2589</td>\n",
       "      <td>-95.25</td>\n",
       "      <td>43.25</td>\n",
       "      <td>POINT (-95.25 43.25)</td>\n",
       "    </tr>\n",
       "    <tr>\n",
       "      <th>3</th>\n",
       "      <td>2590</td>\n",
       "      <td>-94.75</td>\n",
       "      <td>43.25</td>\n",
       "      <td>POINT (-94.75 43.25)</td>\n",
       "    </tr>\n",
       "    <tr>\n",
       "      <th>4</th>\n",
       "      <td>2591</td>\n",
       "      <td>-94.25</td>\n",
       "      <td>43.25</td>\n",
       "      <td>POINT (-94.25 43.25)</td>\n",
       "    </tr>\n",
       "    <tr>\n",
       "      <th>...</th>\n",
       "      <td>...</td>\n",
       "      <td>...</td>\n",
       "      <td>...</td>\n",
       "      <td>...</td>\n",
       "    </tr>\n",
       "    <tr>\n",
       "      <th>60</th>\n",
       "      <td>2893</td>\n",
       "      <td>-93.25</td>\n",
       "      <td>40.75</td>\n",
       "      <td>POINT (-93.25 40.75)</td>\n",
       "    </tr>\n",
       "    <tr>\n",
       "      <th>61</th>\n",
       "      <td>2894</td>\n",
       "      <td>-92.75</td>\n",
       "      <td>40.75</td>\n",
       "      <td>POINT (-92.75 40.75)</td>\n",
       "    </tr>\n",
       "    <tr>\n",
       "      <th>62</th>\n",
       "      <td>2895</td>\n",
       "      <td>-92.25</td>\n",
       "      <td>40.75</td>\n",
       "      <td>POINT (-92.25 40.75)</td>\n",
       "    </tr>\n",
       "    <tr>\n",
       "      <th>63</th>\n",
       "      <td>2896</td>\n",
       "      <td>-91.75</td>\n",
       "      <td>40.75</td>\n",
       "      <td>POINT (-91.75 40.75)</td>\n",
       "    </tr>\n",
       "    <tr>\n",
       "      <th>64</th>\n",
       "      <td>2897</td>\n",
       "      <td>-91.25</td>\n",
       "      <td>40.75</td>\n",
       "      <td>POINT (-91.25 40.75)</td>\n",
       "    </tr>\n",
       "  </tbody>\n",
       "</table>\n",
       "<p>65 rows × 4 columns</p>\n",
       "</div>"
      ],
      "text/plain": [
       "    Unnamed: 0    lon    lat                coords\n",
       "0         2587 -96.25  43.25  POINT (-96.25 43.25)\n",
       "1         2588 -95.75  43.25  POINT (-95.75 43.25)\n",
       "2         2589 -95.25  43.25  POINT (-95.25 43.25)\n",
       "3         2590 -94.75  43.25  POINT (-94.75 43.25)\n",
       "4         2591 -94.25  43.25  POINT (-94.25 43.25)\n",
       "..         ...    ...    ...                   ...\n",
       "60        2893 -93.25  40.75  POINT (-93.25 40.75)\n",
       "61        2894 -92.75  40.75  POINT (-92.75 40.75)\n",
       "62        2895 -92.25  40.75  POINT (-92.25 40.75)\n",
       "63        2896 -91.75  40.75  POINT (-91.75 40.75)\n",
       "64        2897 -91.25  40.75  POINT (-91.25 40.75)\n",
       "\n",
       "[65 rows x 4 columns]"
      ]
     },
     "execution_count": 17,
     "metadata": {},
     "output_type": "execute_result"
    }
   ],
   "source": [
    "pnt_IA"
   ]
  },
  {
   "cell_type": "code",
   "execution_count": 18,
   "id": "70d78264",
   "metadata": {},
   "outputs": [
    {
     "data": {
      "text/plain": [
       "4462449.0"
      ]
     },
     "execution_count": 18,
     "metadata": {},
     "output_type": "execute_result"
    }
   ],
   "source": [
    "data=production_exposure.flatten()\n",
    "data_exposure=data[pnt_ON['Unnamed: 0']]\n",
    "np.around(np.nansum(data_exposure),0)"
   ]
  },
  {
   "cell_type": "code",
   "execution_count": 22,
   "id": "31ab8c66",
   "metadata": {
    "scrolled": true
   },
   "outputs": [],
   "source": [
    "table1=pd.read_csv('table1.csv')"
   ]
  },
  {
   "cell_type": "code",
   "execution_count": 23,
   "id": "c45321f7",
   "metadata": {},
   "outputs": [
    {
     "data": {
      "text/html": [
       "<div>\n",
       "<style scoped>\n",
       "    .dataframe tbody tr th:only-of-type {\n",
       "        vertical-align: middle;\n",
       "    }\n",
       "\n",
       "    .dataframe tbody tr th {\n",
       "        vertical-align: top;\n",
       "    }\n",
       "\n",
       "    .dataframe thead th {\n",
       "        text-align: right;\n",
       "    }\n",
       "</style>\n",
       "<table border=\"1\" class=\"dataframe\">\n",
       "  <thead>\n",
       "    <tr style=\"text-align: right;\">\n",
       "      <th></th>\n",
       "      <th>Province/State</th>\n",
       "      <th>Exposure</th>\n",
       "      <th>Risk1</th>\n",
       "      <th>Risk2</th>\n",
       "      <th>Risk3</th>\n",
       "      <th>Risk4</th>\n",
       "    </tr>\n",
       "  </thead>\n",
       "  <tbody>\n",
       "    <tr>\n",
       "      <th>0</th>\n",
       "      <td>Ontario (ON)</td>\n",
       "      <td>4462449</td>\n",
       "      <td>-260680</td>\n",
       "      <td>108267</td>\n",
       "      <td>-168791</td>\n",
       "      <td>-337552</td>\n",
       "    </tr>\n",
       "    <tr>\n",
       "      <th>1</th>\n",
       "      <td>Quebec (QC)</td>\n",
       "      <td>3028431</td>\n",
       "      <td>-44008</td>\n",
       "      <td>115594</td>\n",
       "      <td>46858</td>\n",
       "      <td>-124816</td>\n",
       "    </tr>\n",
       "    <tr>\n",
       "      <th>2</th>\n",
       "      <td>Iowa (IA)</td>\n",
       "      <td>51708792</td>\n",
       "      <td>-1753337</td>\n",
       "      <td>-1033479</td>\n",
       "      <td>-2693973</td>\n",
       "      <td>-5832673</td>\n",
       "    </tr>\n",
       "    <tr>\n",
       "      <th>3</th>\n",
       "      <td>Minnesota(MN)</td>\n",
       "      <td>28733827</td>\n",
       "      <td>-695961</td>\n",
       "      <td>-272452</td>\n",
       "      <td>-539941</td>\n",
       "      <td>-2743203</td>\n",
       "    </tr>\n",
       "    <tr>\n",
       "      <th>4</th>\n",
       "      <td>Wisconsin(WI)</td>\n",
       "      <td>10838648</td>\n",
       "      <td>-530686</td>\n",
       "      <td>-112530</td>\n",
       "      <td>-700880</td>\n",
       "      <td>-1267455</td>\n",
       "    </tr>\n",
       "    <tr>\n",
       "      <th>5</th>\n",
       "      <td>Illinois(IL)</td>\n",
       "      <td>46508709</td>\n",
       "      <td>-1561850</td>\n",
       "      <td>407945</td>\n",
       "      <td>-2045446</td>\n",
       "      <td>-3687275</td>\n",
       "    </tr>\n",
       "    <tr>\n",
       "      <th>6</th>\n",
       "      <td>Michigan(MI)</td>\n",
       "      <td>6544999</td>\n",
       "      <td>-387256</td>\n",
       "      <td>-388</td>\n",
       "      <td>-383530</td>\n",
       "      <td>-665748</td>\n",
       "    </tr>\n",
       "    <tr>\n",
       "      <th>7</th>\n",
       "      <td>Indiana(IN)</td>\n",
       "      <td>19701342</td>\n",
       "      <td>-658048</td>\n",
       "      <td>350140</td>\n",
       "      <td>-620465</td>\n",
       "      <td>-1506062</td>\n",
       "    </tr>\n",
       "    <tr>\n",
       "      <th>8</th>\n",
       "      <td>Ohio (OH)</td>\n",
       "      <td>12477239</td>\n",
       "      <td>-297931</td>\n",
       "      <td>313573</td>\n",
       "      <td>-418820</td>\n",
       "      <td>-1035445</td>\n",
       "    </tr>\n",
       "    <tr>\n",
       "      <th>9</th>\n",
       "      <td>New York (NY)</td>\n",
       "      <td>1563337</td>\n",
       "      <td>-26158</td>\n",
       "      <td>57433</td>\n",
       "      <td>4581</td>\n",
       "      <td>-50650</td>\n",
       "    </tr>\n",
       "    <tr>\n",
       "      <th>10</th>\n",
       "      <td>Pennsylvania(PA)</td>\n",
       "      <td>3510597</td>\n",
       "      <td>-83952</td>\n",
       "      <td>28073</td>\n",
       "      <td>-58946</td>\n",
       "      <td>-298557</td>\n",
       "    </tr>\n",
       "    <tr>\n",
       "      <th>11</th>\n",
       "      <td>Maryland(MD)</td>\n",
       "      <td>810646</td>\n",
       "      <td>-45115</td>\n",
       "      <td>-45205</td>\n",
       "      <td>-20129</td>\n",
       "      <td>-72320</td>\n",
       "    </tr>\n",
       "  </tbody>\n",
       "</table>\n",
       "</div>"
      ],
      "text/plain": [
       "      Province/State  Exposure    Risk1    Risk2    Risk3    Risk4\n",
       "0       Ontario (ON)   4462449  -260680   108267  -168791  -337552\n",
       "1        Quebec (QC)   3028431   -44008   115594    46858  -124816\n",
       "2          Iowa (IA)  51708792 -1753337 -1033479 -2693973 -5832673\n",
       "3      Minnesota(MN)  28733827  -695961  -272452  -539941 -2743203\n",
       "4      Wisconsin(WI)  10838648  -530686  -112530  -700880 -1267455\n",
       "5       Illinois(IL)  46508709 -1561850   407945 -2045446 -3687275\n",
       "6       Michigan(MI)   6544999  -387256     -388  -383530  -665748\n",
       "7        Indiana(IN)  19701342  -658048   350140  -620465 -1506062\n",
       "8          Ohio (OH)  12477239  -297931   313573  -418820 -1035445\n",
       "9      New York (NY)   1563337   -26158    57433     4581   -50650\n",
       "10  Pennsylvania(PA)   3510597   -83952    28073   -58946  -298557\n",
       "11      Maryland(MD)    810646   -45115   -45205   -20129   -72320"
      ]
     },
     "execution_count": 23,
     "metadata": {},
     "output_type": "execute_result"
    }
   ],
   "source": [
    "table1"
   ]
  },
  {
   "cell_type": "code",
   "execution_count": 31,
   "id": "9d695d5d",
   "metadata": {},
   "outputs": [],
   "source": [
    "table2=table1.copy()"
   ]
  },
  {
   "cell_type": "code",
   "execution_count": 32,
   "id": "8d8c6850",
   "metadata": {},
   "outputs": [],
   "source": [
    "table2['Risk1']=table2['Risk1']*335.72/1000000 "
   ]
  },
  {
   "cell_type": "code",
   "execution_count": 33,
   "id": "05417400",
   "metadata": {},
   "outputs": [
    {
     "data": {
      "text/plain": [
       "0     -87.515490\n",
       "1     -14.774366\n",
       "2    -588.630298\n",
       "3    -233.648027\n",
       "4    -178.161904\n",
       "5    -524.344282\n",
       "6    -130.009584\n",
       "7    -220.919875\n",
       "8    -100.021395\n",
       "9      -8.781764\n",
       "10    -28.184365\n",
       "11    -15.146008\n",
       "Name: Risk1, dtype: float64"
      ]
     },
     "execution_count": 33,
     "metadata": {},
     "output_type": "execute_result"
    }
   ],
   "source": [
    "table2['Risk1']"
   ]
  },
  {
   "cell_type": "code",
   "execution_count": 34,
   "id": "9d4a78d0",
   "metadata": {},
   "outputs": [],
   "source": [
    "table2['Risk2']=table2['Risk2']*335.72/1000000 "
   ]
  },
  {
   "cell_type": "code",
   "execution_count": 35,
   "id": "79528343",
   "metadata": {},
   "outputs": [],
   "source": [
    "table2['Risk3']=table2['Risk3']*335.72/1000000 "
   ]
  },
  {
   "cell_type": "code",
   "execution_count": 36,
   "id": "5f25e569",
   "metadata": {},
   "outputs": [],
   "source": [
    "table2['Risk4']=table2['Risk4']*335.72/1000000 "
   ]
  },
  {
   "cell_type": "code",
   "execution_count": 37,
   "id": "b4ba8dbc",
   "metadata": {},
   "outputs": [
    {
     "data": {
      "text/html": [
       "<div>\n",
       "<style scoped>\n",
       "    .dataframe tbody tr th:only-of-type {\n",
       "        vertical-align: middle;\n",
       "    }\n",
       "\n",
       "    .dataframe tbody tr th {\n",
       "        vertical-align: top;\n",
       "    }\n",
       "\n",
       "    .dataframe thead th {\n",
       "        text-align: right;\n",
       "    }\n",
       "</style>\n",
       "<table border=\"1\" class=\"dataframe\">\n",
       "  <thead>\n",
       "    <tr style=\"text-align: right;\">\n",
       "      <th></th>\n",
       "      <th>Province/State</th>\n",
       "      <th>Exposure</th>\n",
       "      <th>Risk1</th>\n",
       "      <th>Risk2</th>\n",
       "      <th>Risk3</th>\n",
       "      <th>Risk4</th>\n",
       "    </tr>\n",
       "  </thead>\n",
       "  <tbody>\n",
       "    <tr>\n",
       "      <th>0</th>\n",
       "      <td>Ontario (ON)</td>\n",
       "      <td>4462449</td>\n",
       "      <td>-87.515490</td>\n",
       "      <td>36.347397</td>\n",
       "      <td>-56.666515</td>\n",
       "      <td>-113.322957</td>\n",
       "    </tr>\n",
       "    <tr>\n",
       "      <th>1</th>\n",
       "      <td>Quebec (QC)</td>\n",
       "      <td>3028431</td>\n",
       "      <td>-14.774366</td>\n",
       "      <td>38.807218</td>\n",
       "      <td>15.731168</td>\n",
       "      <td>-41.903228</td>\n",
       "    </tr>\n",
       "    <tr>\n",
       "      <th>2</th>\n",
       "      <td>Iowa (IA)</td>\n",
       "      <td>51708792</td>\n",
       "      <td>-588.630298</td>\n",
       "      <td>-346.959570</td>\n",
       "      <td>-904.420616</td>\n",
       "      <td>-1958.144980</td>\n",
       "    </tr>\n",
       "    <tr>\n",
       "      <th>3</th>\n",
       "      <td>Minnesota(MN)</td>\n",
       "      <td>28733827</td>\n",
       "      <td>-233.648027</td>\n",
       "      <td>-91.467585</td>\n",
       "      <td>-181.268993</td>\n",
       "      <td>-920.948111</td>\n",
       "    </tr>\n",
       "    <tr>\n",
       "      <th>4</th>\n",
       "      <td>Wisconsin(WI)</td>\n",
       "      <td>10838648</td>\n",
       "      <td>-178.161904</td>\n",
       "      <td>-37.778572</td>\n",
       "      <td>-235.299434</td>\n",
       "      <td>-425.509993</td>\n",
       "    </tr>\n",
       "    <tr>\n",
       "      <th>5</th>\n",
       "      <td>Illinois(IL)</td>\n",
       "      <td>46508709</td>\n",
       "      <td>-524.344282</td>\n",
       "      <td>136.955295</td>\n",
       "      <td>-686.697131</td>\n",
       "      <td>-1237.891963</td>\n",
       "    </tr>\n",
       "    <tr>\n",
       "      <th>6</th>\n",
       "      <td>Michigan(MI)</td>\n",
       "      <td>6544999</td>\n",
       "      <td>-130.009584</td>\n",
       "      <td>-0.130259</td>\n",
       "      <td>-128.758692</td>\n",
       "      <td>-223.504919</td>\n",
       "    </tr>\n",
       "    <tr>\n",
       "      <th>7</th>\n",
       "      <td>Indiana(IN)</td>\n",
       "      <td>19701342</td>\n",
       "      <td>-220.919875</td>\n",
       "      <td>117.549001</td>\n",
       "      <td>-208.302510</td>\n",
       "      <td>-505.615135</td>\n",
       "    </tr>\n",
       "    <tr>\n",
       "      <th>8</th>\n",
       "      <td>Ohio (OH)</td>\n",
       "      <td>12477239</td>\n",
       "      <td>-100.021395</td>\n",
       "      <td>105.272728</td>\n",
       "      <td>-140.606250</td>\n",
       "      <td>-347.619595</td>\n",
       "    </tr>\n",
       "    <tr>\n",
       "      <th>9</th>\n",
       "      <td>New York (NY)</td>\n",
       "      <td>1563337</td>\n",
       "      <td>-8.781764</td>\n",
       "      <td>19.281407</td>\n",
       "      <td>1.537933</td>\n",
       "      <td>-17.004218</td>\n",
       "    </tr>\n",
       "    <tr>\n",
       "      <th>10</th>\n",
       "      <td>Pennsylvania(PA)</td>\n",
       "      <td>3510597</td>\n",
       "      <td>-28.184365</td>\n",
       "      <td>9.424668</td>\n",
       "      <td>-19.789351</td>\n",
       "      <td>-100.231556</td>\n",
       "    </tr>\n",
       "    <tr>\n",
       "      <th>11</th>\n",
       "      <td>Maryland(MD)</td>\n",
       "      <td>810646</td>\n",
       "      <td>-15.146008</td>\n",
       "      <td>-15.176223</td>\n",
       "      <td>-6.757708</td>\n",
       "      <td>-24.279270</td>\n",
       "    </tr>\n",
       "  </tbody>\n",
       "</table>\n",
       "</div>"
      ],
      "text/plain": [
       "      Province/State  Exposure       Risk1       Risk2       Risk3  \\\n",
       "0       Ontario (ON)   4462449  -87.515490   36.347397  -56.666515   \n",
       "1        Quebec (QC)   3028431  -14.774366   38.807218   15.731168   \n",
       "2          Iowa (IA)  51708792 -588.630298 -346.959570 -904.420616   \n",
       "3      Minnesota(MN)  28733827 -233.648027  -91.467585 -181.268993   \n",
       "4      Wisconsin(WI)  10838648 -178.161904  -37.778572 -235.299434   \n",
       "5       Illinois(IL)  46508709 -524.344282  136.955295 -686.697131   \n",
       "6       Michigan(MI)   6544999 -130.009584   -0.130259 -128.758692   \n",
       "7        Indiana(IN)  19701342 -220.919875  117.549001 -208.302510   \n",
       "8          Ohio (OH)  12477239 -100.021395  105.272728 -140.606250   \n",
       "9      New York (NY)   1563337   -8.781764   19.281407    1.537933   \n",
       "10  Pennsylvania(PA)   3510597  -28.184365    9.424668  -19.789351   \n",
       "11      Maryland(MD)    810646  -15.146008  -15.176223   -6.757708   \n",
       "\n",
       "          Risk4  \n",
       "0   -113.322957  \n",
       "1    -41.903228  \n",
       "2  -1958.144980  \n",
       "3   -920.948111  \n",
       "4   -425.509993  \n",
       "5  -1237.891963  \n",
       "6   -223.504919  \n",
       "7   -505.615135  \n",
       "8   -347.619595  \n",
       "9    -17.004218  \n",
       "10  -100.231556  \n",
       "11   -24.279270  "
      ]
     },
     "execution_count": 37,
     "metadata": {},
     "output_type": "execute_result"
    }
   ],
   "source": [
    "table2"
   ]
  },
  {
   "cell_type": "code",
   "execution_count": 38,
   "id": "420319d2",
   "metadata": {},
   "outputs": [
    {
     "data": {
      "text/plain": [
       "2398.0479600000003"
      ]
     },
     "execution_count": 38,
     "metadata": {},
     "output_type": "execute_result"
    }
   ],
   "source": [
    "7.143*335.72"
   ]
  },
  {
   "cell_type": "code",
   "execution_count": 39,
   "id": "d694b8da",
   "metadata": {},
   "outputs": [
    {
     "data": {
      "text/plain": [
       "301.14084"
      ]
     },
     "execution_count": 39,
     "metadata": {},
     "output_type": "execute_result"
    }
   ],
   "source": [
    "0.897*335.72"
   ]
  },
  {
   "cell_type": "code",
   "execution_count": 40,
   "id": "ebb6ad95",
   "metadata": {},
   "outputs": [
    {
     "data": {
      "text/plain": [
       "2829.11244"
      ]
     },
     "execution_count": 40,
     "metadata": {},
     "output_type": "execute_result"
    }
   ],
   "source": [
    "335.72*8.427"
   ]
  },
  {
   "cell_type": "code",
   "execution_count": 41,
   "id": "51d60d08",
   "metadata": {},
   "outputs": [
    {
     "data": {
      "text/plain": [
       "6906.096120000001"
      ]
     },
     "execution_count": 41,
     "metadata": {},
     "output_type": "execute_result"
    }
   ],
   "source": [
    "335.72*20.571"
   ]
  },
  {
   "cell_type": "code",
   "execution_count": null,
   "id": "894dcb8b",
   "metadata": {},
   "outputs": [],
   "source": []
  }
 ],
 "metadata": {
  "kernelspec": {
   "display_name": "Python 3 (ipykernel)",
   "language": "python",
   "name": "python3"
  },
  "language_info": {
   "codemirror_mode": {
    "name": "ipython",
    "version": 3
   },
   "file_extension": ".py",
   "mimetype": "text/x-python",
   "name": "python",
   "nbconvert_exporter": "python",
   "pygments_lexer": "ipython3",
   "version": "3.9.12"
  }
 },
 "nbformat": 4,
 "nbformat_minor": 5
}
